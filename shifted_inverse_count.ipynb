{
 "cells": [
  {
   "cell_type": "code",
   "execution_count": 1,
   "id": "1e4bfce5",
   "metadata": {},
   "outputs": [],
   "source": [
    "import math\n",
    "import numpy as np\n",
    "import mysql.connector"
   ]
  },
  {
   "cell_type": "code",
   "execution_count": 2,
   "id": "671c2791",
   "metadata": {},
   "outputs": [],
   "source": [
    "def db_connect(query):\n",
    "    mydb = mysql.connector.connect(\n",
    "        host='localhost',\n",
    "        user='root',\n",
    "        password='123456',\n",
    "        # scale = 0.025\n",
    "        database='tpc-h-0.05',\n",
    "        auth_plugin='mysql_native_password'\n",
    "    )\n",
    "    cursor = mydb.cursor()\n",
    "    cursor.execute(query)\n",
    "    return cursor.fetchall()"
   ]
  },
  {
   "cell_type": "code",
   "execution_count": 3,
   "id": "33134819",
   "metadata": {},
   "outputs": [],
   "source": [
    "def get_query_result():\n",
    "    \n",
    "    # Q18  \n",
    "\n",
    "    sql = (\n",
    "        \"select c_custkey, count(*) as count \"\n",
    "        \"from customer, orders, lineitem \"\n",
    "        \"where c_custkey = o_custkey \"\n",
    "        \"and l_orderkey = o_orderkey \"\n",
    "        \"group by c_custkey \"\n",
    "        \"order by count \"\n",
    "    )\n",
    "\n",
    "    '''\n",
    "    # Q12\n",
    "    sql = (\n",
    "        \"select o_orderkey, count(*) as count \"\n",
    "        \"from orders, lineitem \"\n",
    "        \"where o_orderkey = l_orderkey \"\n",
    "        \"group by o_orderkey \"\n",
    "        \"order by count\"\n",
    "    )\n",
    "    \n",
    "    '''\n",
    "    '''\n",
    "    # Q9\n",
    "    sql = (\n",
    "        \"select s_suppkey, count(*) as count \"\n",
    "        \"from supplier, partsupp, lineitem \"\n",
    "        \"where s_suppkey = l_suppkey and ps_suppkey = l_suppkey and ps_partkey = l_partkey \"\n",
    "        \"group by s_suppkey \"\n",
    "        \"order by count\"\n",
    "    )\n",
    "    '''\n",
    "    result = np.array(db_connect(sql))\n",
    "    sorted_result = result[(-result[:, 1]).argsort()]\n",
    "    u, t = np.hsplit(sorted_result, 2)\n",
    "    u = u.flatten()\n",
    "    t = t.flatten()\n",
    "    t = t.astype(float)\n",
    "    return u, t"
   ]
  },
  {
   "cell_type": "code",
   "execution_count": 4,
   "id": "281318a2",
   "metadata": {},
   "outputs": [],
   "source": [
    "def count(t, tau):\n",
    "    f = [0] * (2 * tau + 1)\n",
    "    j = 0\n",
    "    while j <= 2 * tau:\n",
    "        f[j] = sum(t[:-j])\n",
    "        j+=1\n",
    "    return f"
   ]
  },
  {
   "cell_type": "code",
   "execution_count": 5,
   "id": "c9363ad2",
   "metadata": {},
   "outputs": [],
   "source": [
    "def shifted_inverse(f_k, PARAM):\n",
    "    # Initialize s with a default value of -tau - 1 for each element\n",
    "    s = [-PARAM[\"tau\"] - 1] * PARAM[\"D\"]\n",
    "\n",
    "    for r in range(PARAM[\"D\"]):\n",
    "        if r == f_k[PARAM[\"tau\"]]:\n",
    "            s[r] = 0\n",
    "        else:\n",
    "            # Use binary search since f_k is in descending order\n",
    "            j = binary_search(f_k, r)\n",
    "            if j != -1:\n",
    "                if 1 <= j <= PARAM[\"tau\"]:\n",
    "                    s[r] = -PARAM[\"tau\"] + j - 1\n",
    "                elif PARAM[\"tau\"] < j <= 2 * PARAM[\"tau\"]:\n",
    "                    s[r] = PARAM[\"tau\"] - j\n",
    "\n",
    "    # Calculate probabilities proportional to exp(epsilon / 2 * s(V, r))\n",
    "    p = np.array([np.exp(PARAM[\"epsilon\"] / 2 * s[r]) for r in range(PARAM[\"D\"])])\n",
    "    p /= p.sum()\n",
    "\n",
    "    # Sample r from [D] with probability proportional to exp(epsilon / 2 * s(V, r)), denoted by r_tilde\n",
    "    r_tilde = np.random.choice(PARAM[\"D\"], p=p)\n",
    "\n",
    "    # Return M(V) = r_tilde\n",
    "    return r_tilde"
   ]
  },
  {
   "cell_type": "code",
   "execution_count": 6,
   "id": "bd83b5b8",
   "metadata": {},
   "outputs": [],
   "source": [
    "def binary_search(f_values, target):\n",
    "    left, right = 1, 2 * tau\n",
    "    while left <= right:\n",
    "        mid = (left + right) // 2\n",
    "        if f_values[mid] < target <= f_values[mid - 1]:\n",
    "            return mid\n",
    "        elif target > f_values[mid - 1]:\n",
    "            right = mid - 1\n",
    "        else:\n",
    "            left = mid + 1\n",
    "    return -1"
   ]
  },
  {
   "cell_type": "code",
   "execution_count": 7,
   "id": "192d1680",
   "metadata": {},
   "outputs": [],
   "source": [
    "# count\n",
    "def get_error(t, r_tilde):\n",
    "    r = np.sum(t)\n",
    "    relative_error = (r - r_tilde) / r\n",
    "    print(\"The relative error: {}\".format(relative_error))"
   ]
  },
  {
   "cell_type": "code",
   "execution_count": 8,
   "id": "adf85c40",
   "metadata": {},
   "outputs": [
    {
     "name": "stdout",
     "output_type": "stream",
     "text": [
      "The result r_tidle: 74359\n",
      "The relative error: 0.00645359557467732\n"
     ]
    }
   ],
   "source": [
    "PARAM = {\n",
    "    \"beta\": 1 / 3,\n",
    "    \"epsilon\": 4,\n",
    "    \"D\": pow(10, 5)\n",
    "}\n",
    "tau = math.ceil(2 * PARAM[\"epsilon\"] * math.log((PARAM[\"D\"] + 1) / PARAM[\"beta\"]))\n",
    "PARAM[\"tau\"] = tau\n",
    "user, query_tuple = get_query_result()\n",
    "\n",
    "f = count(t=query_tuple, tau=PARAM[\"tau\"])\n",
    "r_tilde = shifted_inverse(f_k=f, PARAM=PARAM)\n",
    "print(\"The result r_tidle: {}\".format(r_tilde))\n",
    "\n",
    "# evaluate relative error\n",
    "get_error(t=query_tuple, r_tilde=r_tilde)"
   ]
  },
  {
   "cell_type": "code",
   "execution_count": null,
   "id": "5fe7f300",
   "metadata": {},
   "outputs": [],
   "source": []
  }
 ],
 "metadata": {
  "kernelspec": {
   "display_name": "Python 3 (ipykernel)",
   "language": "python",
   "name": "python3"
  },
  "language_info": {
   "codemirror_mode": {
    "name": "ipython",
    "version": 3
   },
   "file_extension": ".py",
   "mimetype": "text/x-python",
   "name": "python",
   "nbconvert_exporter": "python",
   "pygments_lexer": "ipython3",
   "version": "3.11.5"
  }
 },
 "nbformat": 4,
 "nbformat_minor": 5
}
